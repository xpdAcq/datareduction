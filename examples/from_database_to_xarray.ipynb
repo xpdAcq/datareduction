{
 "cells": [
  {
   "cell_type": "markdown",
   "id": "a617d5f0",
   "metadata": {},
   "source": [
    "# Find the uids of the runs in May 05 beamtime"
   ]
  },
  {
   "cell_type": "code",
   "execution_count": 1,
   "id": "81fc3b25",
   "metadata": {},
   "outputs": [],
   "source": [
    "import pandas as pd\n",
    "\n",
    "from databroker import catalog"
   ]
  },
  {
   "cell_type": "code",
   "execution_count": 2,
   "id": "79142355",
   "metadata": {},
   "outputs": [
    {
     "data": {
      "text/plain": [
       "['test_data_in_database',\n",
       " 'analysis',\n",
       " 'bt_safN_306132',\n",
       " 'processed',\n",
       " 'beamtime_20210930_saf_308066',\n",
       " 'beamtime_20210930_saf_308066_processed',\n",
       " 'pdf',\n",
       " 'saf_307381',\n",
       " 'xpd']"
      ]
     },
     "execution_count": 2,
     "metadata": {},
     "output_type": "execute_result"
    }
   ],
   "source": [
    "list(catalog)"
   ]
  },
  {
   "cell_type": "code",
   "execution_count": 3,
   "id": "6c244f30",
   "metadata": {},
   "outputs": [],
   "source": [
    "db = catalog[\"pdf\"]"
   ]
  },
  {
   "cell_type": "code",
   "execution_count": 4,
   "id": "7d4de26e",
   "metadata": {},
   "outputs": [],
   "source": [
    "def print_sample_name(_db):\n",
    "    print(\"uid sample\")\n",
    "    for uid in _db:\n",
    "        run = _db[uid]\n",
    "        sample = run.metadata[\"start\"].get(\"sample_name\", \"\")\n",
    "        status = run.metadata[\"stop\"].get(\"exit_status\", \"\")\n",
    "        if status == \"success\" and sample != \"\":\n",
    "            print(\"{} {}\".format(uid, sample))\n",
    "    return"
   ]
  },
  {
   "cell_type": "code",
   "execution_count": 5,
   "id": "ad787e51",
   "metadata": {},
   "outputs": [
    {
     "name": "stdout",
     "output_type": "stream",
     "text": [
      "uid sample\n",
      "a3b9be6c-7149-4a1a-8ae9-c88ca4448642 ML99_powder\n",
      "480732a3-dd53-4d2e-a1a3-c291a49255f8 ML99_premeleted\n",
      "a1f18994-96c8-4c92-9910-ab52b7c6bfc6 ML99_premeleted\n",
      "e3fda015-dfe2-4e2a-8c2e-d717ab099766 ML99_premeleted\n",
      "3df14c06-6809-45fb-95e5-8462192a853e ML99_premeleted\n",
      "d3f8e498-0f82-4df4-8b7f-5ec2d35b81b7 ML61_crystalline\n",
      "eb933df1-5abb-46d4-956e-105aaf905b07 ML61_premelted\n",
      "798ef19d-5933-4118-978d-6513ac34b818 ML61_premelted\n",
      "07c6d60b-4c24-40ac-a727-8b7d8c4bf4b5 ML99_blank1\n",
      "f3017542-3761-43ed-aad2-403b385a23d6 ML99_blank2\n",
      "985ff3ac-2fb1-4265-b996-6cf985eef623 ML61_blank1\n",
      "43af3b5b-4df1-488f-b45c-ebf3d3787ea2 44\n",
      "82205d6c-da2a-47bc-bfc0-7fe84e7c0d23 44\n",
      "87ad4550-cef7-46eb-9349-4c6f574ef943 44\n",
      "31dc52cf-adf2-40eb-84fa-3afb4a809660 44\n",
      "dacfdc56-3b74-465e-85bd-1cbc6e9fef45 44\n",
      "ba41ae51-3ba3-459b-8329-293b4379dc61 44\n",
      "1ced1e62-1c90-4c31-942c-e809421b538d 44\n",
      "343706e0-8075-4ab1-a3c9-278c97324a37 44\n",
      "dd8fedec-5fb7-443b-aec2-ec01f028d827 Ni_calib\n",
      "c3c218b8-1101-4a54-9eda-c633a4ffbd7a Ni_calib\n",
      "c6ef7bae-2338-4b3b-bdce-0c45356d6a6a 44\n",
      "6bea0f3d-a12f-4e8b-8f05-4e4f8ab9cb57 Setup\n",
      "1af86ea0-3c98-4bfc-a4c5-28bfdd342220 Ni_calib\n",
      "bfc0d637-76bc-499f-a1fa-96c60a19008e Ni_calib\n",
      "d95d5bdb-5b05-42d4-8f54-7dff5f25706a Ni_calib\n",
      "64820935-9ac9-44d5-b74c-95bc608ee585 Ni_calib\n",
      "940fcc49-8d28-471d-b503-828dae023c6d Setup\n",
      "37b0c10c-200b-423b-a772-ea2706742e0d 41\n",
      "f16d115f-23f2-4761-8ee9-76b0e167b982 41\n",
      "2bc74419-ccf7-4c8a-ab12-72ac892d6b5d 41\n",
      "bf49b2f6-d68a-4df2-a6ef-4d4c455cf368 40\n",
      "aa9dcf74-1304-4943-90c0-1d3bfa4d8734 40\n",
      "2a3396af-f764-4097-8d01-bbf9ed9379af 40\n",
      "71f8eb99-fe9e-4989-806a-7360fb6c062a Ni_calib\n",
      "d130b1c2-e702-4ac7-a92a-a0a9bcb08916 21\n",
      "03ea2ac5-0bb5-4bcd-a90b-f6c4372f1898 20\n",
      "de413cd8-a633-4287-876f-8bda0d3ad1a3 66\n",
      "0c1088a6-c058-40f7-84a9-bbd4134e8b4b Setup\n",
      "4976cfc5-df39-4645-94e5-fa5809304e5f Setup\n",
      "0067270c-cb4a-43d7-9ed2-7c02c7f55559 Setup\n",
      "1808c9cd-8ef9-4eeb-a917-4c2ed36c4dc4 Ni_calib\n",
      "f64e380c-cf02-4f12-b51f-693b603fc17a Ni_calib\n",
      "ad425725-912d-4e07-b1e9-341eb01f63c4 Setup\n",
      "ef3a2752-6eba-4131-b2b9-85d37850cb95 Setup\n",
      "90c5af5c-2ab1-49c5-9ea5-d48c0b95d0f4 38\n",
      "54dbe83a-9116-4e5f-bbd6-59d64e2194cd 37\n",
      "9edfc200-f3b1-47be-8121-d42eceaa7434 32\n",
      "da423697-fe6e-4381-bf8a-defe540780d3 30\n",
      "26985485-8708-4a41-a938-030837f59593 29\n",
      "96719843-cc3b-4efd-81a2-e32507e74146 19\n",
      "90f93a84-b7d6-4cc3-ab12-d2cf49931b9e 18\n",
      "b252baf9-017a-47c8-9c37-46bb68f2d76a 17\n",
      "7443c675-c604-48d2-9b28-f80f738a8582 16\n",
      "1db291c7-0ed8-4e00-83b7-82dbda9d2dcb 15\n",
      "8a01ba26-d6f0-4d5c-922c-40b8ac366cdd 14\n",
      "a6523e78-14ce-4be4-80ba-4509fef85805 13\n",
      "7782d210-f67a-4026-9711-d1467394f977 12\n",
      "3a1fa3a9-8bab-4833-9c67-bcb1503551e3 11\n",
      "15587e0f-5700-43b2-a444-c9247e6f6b54 10\n",
      "944a46d6-21ca-4697-87c6-2322c497d898 10\n",
      "7a9c99b7-820b-4371-a5d1-9bf0cf2b0a48 2\n",
      "816e50b6-a5fe-4b24-803f-91d87b9bd68f 2\n",
      "74c658fb-8988-42f1-8b2c-89562265c0df Setup\n",
      "87334807-6728-4c7c-8731-c7d832239d16 Setup\n",
      "90cb6070-4581-459a-b573-deeb268c65d9 Ni_calib\n",
      "2d6a8a5d-b331-476d-9886-8896d268b30b Setup\n",
      "1a36c603-111d-49f2-a85d-f6c7430c48ae Setup\n",
      "22a3dcf2-6545-4eee-80e5-f0c7339be22e Ni_calib\n",
      "9342b1b0-eb4e-4db9-adbe-0f53dbc23da6 Setup\n",
      "ce25fc8f-1c5e-4cbf-b7b3-d86dcedc5911 Setup\n",
      "86729ebe-678c-4aba-85ac-5a30ec1c15c9 Setup\n",
      "2d32251b-8cb7-4f00-a336-25eec09cfe77 Ni_calib\n",
      "7d4d74e7-485f-47ee-81d3-73e41d567bda Ni_calib\n",
      "62afe388-42b3-4eb7-baff-90445d745463 Ni_calib\n",
      "5af6a1ff-3974-493a-b9fd-a9c60105b0cf Ni_calib\n",
      "0202f38f-39ca-4a80-bc3b-df71aec4e3e1 Ni_calib\n"
     ]
    }
   ],
   "source": [
    "print_sample_name(db)"
   ]
  },
  {
   "cell_type": "markdown",
   "id": "1ee122ff",
   "metadata": {},
   "source": [
    "# Process the data"
   ]
  },
  {
   "cell_type": "code",
   "execution_count": 26,
   "id": "7f4326b9",
   "metadata": {},
   "outputs": [],
   "source": [
    "from datareduction.reduction import DataProcessConfig, DataProcessor\n",
    "\n",
    "import pandas as pd\n",
    "import xarray as xr\n",
    "from pathlib import PurePath, Path"
   ]
  },
  {
   "cell_type": "code",
   "execution_count": 15,
   "id": "1ba61576",
   "metadata": {},
   "outputs": [],
   "source": [
    "config = DataProcessConfig()\n",
    "config.database.name = \"pdf\"\n",
    "config.database.image_key = \"pe1c_image\"\n",
    "dp = DataProcessor(config)"
   ]
  },
  {
   "cell_type": "code",
   "execution_count": 9,
   "id": "6c5de912",
   "metadata": {},
   "outputs": [
    {
     "data": {
      "text/html": [
       "<div>\n",
       "<style scoped>\n",
       "    .dataframe tbody tr th:only-of-type {\n",
       "        vertical-align: middle;\n",
       "    }\n",
       "\n",
       "    .dataframe tbody tr th {\n",
       "        vertical-align: top;\n",
       "    }\n",
       "\n",
       "    .dataframe thead th {\n",
       "        text-align: right;\n",
       "    }\n",
       "</style>\n",
       "<table border=\"1\" class=\"dataframe\">\n",
       "  <thead>\n",
       "    <tr style=\"text-align: right;\">\n",
       "      <th></th>\n",
       "      <th>uid</th>\n",
       "      <th>sample</th>\n",
       "    </tr>\n",
       "  </thead>\n",
       "  <tbody>\n",
       "    <tr>\n",
       "      <th>0</th>\n",
       "      <td>a3b9be6c-7149-4a1a-8ae9-c88ca4448642</td>\n",
       "      <td>ML99_powder</td>\n",
       "    </tr>\n",
       "    <tr>\n",
       "      <th>1</th>\n",
       "      <td>480732a3-dd53-4d2e-a1a3-c291a49255f8</td>\n",
       "      <td>ML99_premeleted</td>\n",
       "    </tr>\n",
       "    <tr>\n",
       "      <th>2</th>\n",
       "      <td>a1f18994-96c8-4c92-9910-ab52b7c6bfc6</td>\n",
       "      <td>ML99_premeleted</td>\n",
       "    </tr>\n",
       "    <tr>\n",
       "      <th>3</th>\n",
       "      <td>e3fda015-dfe2-4e2a-8c2e-d717ab099766</td>\n",
       "      <td>ML99_premeleted</td>\n",
       "    </tr>\n",
       "    <tr>\n",
       "      <th>4</th>\n",
       "      <td>3df14c06-6809-45fb-95e5-8462192a853e</td>\n",
       "      <td>ML99_premeleted</td>\n",
       "    </tr>\n",
       "    <tr>\n",
       "      <th>5</th>\n",
       "      <td>d3f8e498-0f82-4df4-8b7f-5ec2d35b81b7</td>\n",
       "      <td>ML61_crystalline</td>\n",
       "    </tr>\n",
       "    <tr>\n",
       "      <th>6</th>\n",
       "      <td>eb933df1-5abb-46d4-956e-105aaf905b07</td>\n",
       "      <td>ML61_premelted</td>\n",
       "    </tr>\n",
       "    <tr>\n",
       "      <th>7</th>\n",
       "      <td>798ef19d-5933-4118-978d-6513ac34b818</td>\n",
       "      <td>ML61_premelted</td>\n",
       "    </tr>\n",
       "    <tr>\n",
       "      <th>8</th>\n",
       "      <td>07c6d60b-4c24-40ac-a727-8b7d8c4bf4b5</td>\n",
       "      <td>ML99_blank1</td>\n",
       "    </tr>\n",
       "    <tr>\n",
       "      <th>9</th>\n",
       "      <td>f3017542-3761-43ed-aad2-403b385a23d6</td>\n",
       "      <td>ML99_blank2</td>\n",
       "    </tr>\n",
       "    <tr>\n",
       "      <th>10</th>\n",
       "      <td>985ff3ac-2fb1-4265-b996-6cf985eef623</td>\n",
       "      <td>ML61_blank1</td>\n",
       "    </tr>\n",
       "  </tbody>\n",
       "</table>\n",
       "</div>"
      ],
      "text/plain": [
       "                                     uid            sample\n",
       "0   a3b9be6c-7149-4a1a-8ae9-c88ca4448642       ML99_powder\n",
       "1   480732a3-dd53-4d2e-a1a3-c291a49255f8   ML99_premeleted\n",
       "2   a1f18994-96c8-4c92-9910-ab52b7c6bfc6   ML99_premeleted\n",
       "3   e3fda015-dfe2-4e2a-8c2e-d717ab099766   ML99_premeleted\n",
       "4   3df14c06-6809-45fb-95e5-8462192a853e   ML99_premeleted\n",
       "5   d3f8e498-0f82-4df4-8b7f-5ec2d35b81b7  ML61_crystalline\n",
       "6   eb933df1-5abb-46d4-956e-105aaf905b07    ML61_premelted\n",
       "7   798ef19d-5933-4118-978d-6513ac34b818    ML61_premelted\n",
       "8   07c6d60b-4c24-40ac-a727-8b7d8c4bf4b5       ML99_blank1\n",
       "9   f3017542-3761-43ed-aad2-403b385a23d6       ML99_blank2\n",
       "10  985ff3ac-2fb1-4265-b996-6cf985eef623       ML61_blank1"
      ]
     },
     "execution_count": 9,
     "metadata": {},
     "output_type": "execute_result"
    }
   ],
   "source": [
    "df = pd.read_csv(\"./data/uids_20210505.txt\", delimiter=\" \")\n",
    "df"
   ]
  },
  {
   "cell_type": "code",
   "execution_count": 16,
   "id": "1c4f3659",
   "metadata": {},
   "outputs": [],
   "source": [
    "def process_all(dp, df, output_dir):\n",
    "    _output_dir = PurePath(output_dir)\n",
    "    for row in df.itertuples():\n",
    "        filename = \"{}_{}\".format(row.uid, row.sample)\n",
    "        filepath = _output_dir.joinpath(filename)\n",
    "        dp.process(row.uid)\n",
    "        dp.rc.dataset.to_netcdf(str(filepath))\n",
    "    return "
   ]
  },
  {
   "cell_type": "code",
   "execution_count": 17,
   "id": "3693782e",
   "metadata": {},
   "outputs": [],
   "source": [
    "output_dir = \"./data/temp2/\"\n",
    "process_all(dp, df, output_dir)"
   ]
  },
  {
   "cell_type": "code",
   "execution_count": 18,
   "id": "f3f18294",
   "metadata": {},
   "outputs": [],
   "source": [
    "del dp, df, output_dir"
   ]
  },
  {
   "cell_type": "markdown",
   "id": "1fbe6901",
   "metadata": {},
   "source": [
    "# Merge data"
   ]
  },
  {
   "cell_type": "code",
   "execution_count": 52,
   "id": "b608e933",
   "metadata": {},
   "outputs": [],
   "source": [
    "def merge_data(target_dir, include, exclude):\n",
    "    \n",
    "    def gen_ds():\n",
    "        for f in Path(target_dir).glob(\"[!.]*\"):\n",
    "            if include in f.name and exclude not in f.name:\n",
    "                ds = xr.open_dataset(str(f))\n",
    "                qmax = ds[\"Q\"].values.max()\n",
    "                ds = ds.interp({\"Q\": np.arange(0.01, qmax, 0.01)})\n",
    "                yield ds\n",
    "            \n",
    "    return xr.merge(gen_ds())"
   ]
  },
  {
   "cell_type": "code",
   "execution_count": 71,
   "id": "20175f54",
   "metadata": {},
   "outputs": [],
   "source": [
    "merge_data(\"./data/temp2/\", \"blank\", \"xxxxxx\").to_netcdf(\"./data/temp_bkg_data.nc\")"
   ]
  },
  {
   "cell_type": "code",
   "execution_count": 72,
   "id": "ef022e04",
   "metadata": {},
   "outputs": [],
   "source": [
    "merge_data(\"./data/temp2/\", \"\", \"blank\").to_netcdf(\"./data/temp_data.nc\")"
   ]
  },
  {
   "cell_type": "markdown",
   "id": "a2d1303d",
   "metadata": {},
   "source": [
    "# Get PDF"
   ]
  },
  {
   "cell_type": "code",
   "execution_count": 1,
   "id": "d300530a",
   "metadata": {},
   "outputs": [],
   "source": [
    "import xarray as xr"
   ]
  },
  {
   "cell_type": "code",
   "execution_count": 2,
   "id": "6fdae371",
   "metadata": {},
   "outputs": [],
   "source": [
    "data = xr.open_dataset(\"./data/temp_data.nc\")\n",
    "bkg_data = xr.open_dataset(\"./data/temp_bkg_data.nc\")"
   ]
  },
  {
   "cell_type": "code",
   "execution_count": 3,
   "id": "c985f530",
   "metadata": {},
   "outputs": [],
   "source": [
    "from datareduction.reduction import ReductionConfig, ReductionCalculator"
   ]
  },
  {
   "cell_type": "code",
   "execution_count": 4,
   "id": "f2ff59de",
   "metadata": {},
   "outputs": [],
   "source": [
    "config = ReductionConfig()"
   ]
  },
  {
   "cell_type": "code",
   "execution_count": 5,
   "id": "74652bf7",
   "metadata": {},
   "outputs": [],
   "source": [
    "config.pdf.rmax = 50.0\n",
    "config.pdf.composition = \"MnMn\"\n",
    "config.pdf.qmaxinst = 17.0\n",
    "config.pdf.qmax = 14.0"
   ]
  },
  {
   "cell_type": "code",
   "execution_count": 6,
   "id": "9ead752d",
   "metadata": {},
   "outputs": [],
   "source": [
    "rc = ReductionCalculator(config)"
   ]
  },
  {
   "cell_type": "markdown",
   "id": "f74cf2d4",
   "metadata": {},
   "source": [
    "## ML 61"
   ]
  },
  {
   "cell_type": "code",
   "execution_count": 69,
   "id": "d9398cce",
   "metadata": {},
   "outputs": [],
   "source": [
    "data2 = data.where(\n",
    "    data[\"sample_name\"].isin([\"ML61_premelted\", \"ML61_crystalline\"]),\n",
    "    drop=True\n",
    ")"
   ]
  },
  {
   "cell_type": "code",
   "execution_count": 70,
   "id": "99dc90da",
   "metadata": {},
   "outputs": [],
   "source": [
    "bkg_data2 = bkg_data.isel({\"time\": 0})"
   ]
  },
  {
   "cell_type": "code",
   "execution_count": 71,
   "id": "12ab5487",
   "metadata": {},
   "outputs": [],
   "source": [
    "rc.set_dataset(data2)\n",
    "rc.set_bkg_dataset(bkg_data2)\n",
    "rc.bkg_subtract()"
   ]
  },
  {
   "cell_type": "code",
   "execution_count": 72,
   "id": "5ab4cb17",
   "metadata": {},
   "outputs": [
    {
     "data": {
      "application/vnd.jupyter.widget-view+json": {
       "model_id": "bd27d4b7daed4940970b9718667b1e0d",
       "version_major": 2,
       "version_minor": 0
      },
      "text/plain": [
       "interactive(children=(FloatSlider(value=0.0, description='qmin', max=5.0, step=0.05), FloatSlider(value=14.0, …"
      ]
     },
     "metadata": {},
     "output_type": "display_data"
    },
    {
     "data": {
      "text/plain": [
       "<function datareduction.reduction.ReductionCalculator.interact_fq.<locals>.func(qmin, qmax, qmaxinst, lowessf, qcutoff, endzero)>"
      ]
     },
     "execution_count": 72,
     "metadata": {},
     "output_type": "execute_result"
    }
   ],
   "source": [
    "rc.interact_fq(0)"
   ]
  },
  {
   "cell_type": "code",
   "execution_count": 73,
   "id": "e666c166",
   "metadata": {},
   "outputs": [],
   "source": [
    "rc.get_G()"
   ]
  },
  {
   "cell_type": "code",
   "execution_count": 74,
   "id": "efced724",
   "metadata": {},
   "outputs": [],
   "source": [
    "data2 = rc.dataset.copy()"
   ]
  },
  {
   "cell_type": "markdown",
   "id": "e781d67a",
   "metadata": {},
   "source": [
    "# ML99"
   ]
  },
  {
   "cell_type": "code",
   "execution_count": 75,
   "id": "39791a4c",
   "metadata": {},
   "outputs": [],
   "source": [
    "data1 = data.where(\n",
    "    data[\"sample_name\"].isin([\"ML99_premeleted\"]),\n",
    "    drop=True\n",
    ")"
   ]
  },
  {
   "cell_type": "code",
   "execution_count": 76,
   "id": "25de87f0",
   "metadata": {},
   "outputs": [],
   "source": [
    "bkg_data1 = bkg_data.isel({\"time\": 1})"
   ]
  },
  {
   "cell_type": "code",
   "execution_count": 77,
   "id": "b2d5c772",
   "metadata": {},
   "outputs": [],
   "source": [
    "rc.set_dataset(data1)\n",
    "rc.set_bkg_dataset(bkg_data1)\n",
    "rc.bkg_subtract()"
   ]
  },
  {
   "cell_type": "code",
   "execution_count": 78,
   "id": "1b379fa3",
   "metadata": {},
   "outputs": [
    {
     "data": {
      "application/vnd.jupyter.widget-view+json": {
       "model_id": "50e18e86fe8340d2989ff188d4b3a2bc",
       "version_major": 2,
       "version_minor": 0
      },
      "text/plain": [
       "interactive(children=(FloatSlider(value=0.0, description='qmin', max=5.0, step=0.05), FloatSlider(value=14.0, …"
      ]
     },
     "metadata": {},
     "output_type": "display_data"
    },
    {
     "data": {
      "text/plain": [
       "<function datareduction.reduction.ReductionCalculator.interact_fq.<locals>.func(qmin, qmax, qmaxinst, lowessf, qcutoff, endzero)>"
      ]
     },
     "execution_count": 78,
     "metadata": {},
     "output_type": "execute_result"
    }
   ],
   "source": [
    "rc.interact_fq(0)"
   ]
  },
  {
   "cell_type": "code",
   "execution_count": 79,
   "id": "5a5863c0",
   "metadata": {},
   "outputs": [],
   "source": [
    "rc.get_G()"
   ]
  },
  {
   "cell_type": "code",
   "execution_count": 80,
   "id": "d8e7f730",
   "metadata": {},
   "outputs": [],
   "source": [
    "data1 = rc.dataset.copy()"
   ]
  },
  {
   "cell_type": "markdown",
   "id": "dc5bc5d6",
   "metadata": {},
   "source": [
    "## ML 99 powder"
   ]
  },
  {
   "cell_type": "code",
   "execution_count": 98,
   "id": "ef5e0339",
   "metadata": {},
   "outputs": [],
   "source": [
    "data3 = data.where(\n",
    "    data[\"sample_name\"].isin([\"ML99_powder\"]),\n",
    "    drop=True\n",
    ")"
   ]
  },
  {
   "cell_type": "code",
   "execution_count": 99,
   "id": "4fbc60b8",
   "metadata": {},
   "outputs": [],
   "source": [
    "bkg_data3 = bkg_data.isel({\"time\": 1})"
   ]
  },
  {
   "cell_type": "code",
   "execution_count": 101,
   "id": "c993edc9",
   "metadata": {},
   "outputs": [],
   "source": [
    "rc.set_dataset(data3)\n",
    "rc.set_bkg_dataset(bkg_data3)\n",
    "rc.bkg_subtract()"
   ]
  },
  {
   "cell_type": "code",
   "execution_count": 103,
   "id": "b10ad97b",
   "metadata": {},
   "outputs": [
    {
     "data": {
      "application/vnd.jupyter.widget-view+json": {
       "model_id": "93088aed16a64ccbafc4965ffb8c22c2",
       "version_major": 2,
       "version_minor": 0
      },
      "text/plain": [
       "interactive(children=(FloatSlider(value=0.0, description='qmin', max=5.0, step=0.05), FloatSlider(value=14.0, …"
      ]
     },
     "metadata": {},
     "output_type": "display_data"
    },
    {
     "data": {
      "text/plain": [
       "<function datareduction.reduction.ReductionCalculator.interact_fq.<locals>.func(qmin, qmax, qmaxinst, lowessf, qcutoff, endzero)>"
      ]
     },
     "execution_count": 103,
     "metadata": {},
     "output_type": "execute_result"
    }
   ],
   "source": [
    "rc.interact_fq()"
   ]
  },
  {
   "cell_type": "code",
   "execution_count": 104,
   "id": "d1de2c26",
   "metadata": {},
   "outputs": [],
   "source": [
    "rc.get_G()"
   ]
  },
  {
   "cell_type": "code",
   "execution_count": 105,
   "id": "40d781bc",
   "metadata": {},
   "outputs": [],
   "source": [
    "data3 = rc.dataset.copy()"
   ]
  },
  {
   "cell_type": "code",
   "execution_count": 106,
   "id": "6b4c49c0",
   "metadata": {},
   "outputs": [],
   "source": [
    "final_data = xr.merge([data1, data2, data3])"
   ]
  },
  {
   "cell_type": "code",
   "execution_count": 107,
   "id": "ce3ae63e",
   "metadata": {},
   "outputs": [],
   "source": [
    "final_data.to_netcdf(\"./data/data_20210505.nc\")"
   ]
  },
  {
   "cell_type": "code",
   "execution_count": null,
   "id": "8ae82c81",
   "metadata": {},
   "outputs": [],
   "source": []
  }
 ],
 "metadata": {
  "kernelspec": {
   "display_name": "Python 3.7.7 ('research')",
   "language": "python",
   "name": "python3"
  },
  "language_info": {
   "codemirror_mode": {
    "name": "ipython",
    "version": 3
   },
   "file_extension": ".py",
   "mimetype": "text/x-python",
   "name": "python",
   "nbconvert_exporter": "python",
   "pygments_lexer": "ipython3",
   "version": "3.7.7"
  },
  "vscode": {
   "interpreter": {
    "hash": "c825ad6472571374084cf98c1c4d54cee760201f6feaf45f4c90326ae879b528"
   }
  }
 },
 "nbformat": 4,
 "nbformat_minor": 5
}
